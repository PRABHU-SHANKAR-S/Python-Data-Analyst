{
 "cells": [
  {
   "cell_type": "markdown",
   "id": "e9c586b6-7375-4e82-8502-054bab5204d0",
   "metadata": {},
   "source": [
    "# Pandas - Cleaning Data"
   ]
  },
  {
   "cell_type": "markdown",
   "id": "273a2aa2-4915-4b4d-859c-28625389002b",
   "metadata": {},
   "source": [
    "Data cleaning means fixing bad data in your data set.\n",
    "\n",
    "Bad data could be:\n",
    "\n",
    "1. Empty cells\n",
    "2. Data in wrong format\n",
    "3. Wrong data\n",
    "4. Duplicates"
   ]
  },
  {
   "cell_type": "markdown",
   "id": "fd2995cb-b597-4230-b92a-c36b5c58fb9c",
   "metadata": {},
   "source": [
    "# 1. Empty cells\n",
    "\n",
    "One way to deal with empty cells is to **remove rows** that contain empty cells."
   ]
  },
  {
   "cell_type": "code",
   "execution_count": null,
   "id": "aa2587c7-dfe4-4bb2-91a4-2334c475e05c",
   "metadata": {},
   "outputs": [],
   "source": [
    "#DO NOT RUN THIS\n",
    "# Return a new Data Frame with no empty cells:\n",
    "import pandas as pd\n",
    "\n",
    "df = pd.read_csv('data.csv')\n",
    "\n",
    "new_df = df.dropna()\n",
    "\n",
    "print(new_df.to_string())"
   ]
  },
  {
   "cell_type": "markdown",
   "id": "12456ead-2299-4495-a820-aecb679c6ee9",
   "metadata": {},
   "source": [
    "**Note:** By default, the **dropna()** method returns a new DataFrame, and will not change the original."
   ]
  },
  {
   "cell_type": "markdown",
   "id": "35c96380-d7ee-45ea-a7fa-bef4cc93f658",
   "metadata": {},
   "source": [
    "If you want to change the original DataFrame, use the **inplace = True** argument:\\\n",
    "Remove all rows with NULL values:"
   ]
  },
  {
   "cell_type": "code",
   "execution_count": null,
   "id": "837402b7-aa0c-4158-8efa-97d3cd2d7a4e",
   "metadata": {},
   "outputs": [],
   "source": [
    "#DO NOT RUN THIS\n",
    "import pandas as pd\n",
    "\n",
    "df = pd.read_csv('data.csv')\n",
    "\n",
    "df.dropna(inplace = True)\n",
    "\n",
    "print(df.to_string())"
   ]
  },
  {
   "cell_type": "markdown",
   "id": "a8cd7dae-e2c0-489d-b1a7-0c0089f37743",
   "metadata": {},
   "source": [
    "Note: Now, the **dropna(inplace = True)** will NOT return a new DataFrame, but it will **remove all rows containing NULL values** from the original DataFrame."
   ]
  },
  {
   "cell_type": "markdown",
   "id": "52787bf0-794b-452a-8bd8-7cdbbffdf666",
   "metadata": {},
   "source": [
    "### Replace Empty Values\n",
    "\n",
    "The **fillna()** method allows us to replace empty cells with a value:"
   ]
  },
  {
   "cell_type": "code",
   "execution_count": null,
   "id": "ddeea532-0ae4-4819-ab62-7c69facbab7f",
   "metadata": {},
   "outputs": [],
   "source": [
    "#DO NOT RUN THIS\n",
    "import pandas as pd\n",
    "\n",
    "df = pd.read_csv('data.csv')\n",
    "\n",
    "df.fillna(130, inplace = True)"
   ]
  },
  {
   "cell_type": "markdown",
   "id": "eb1c686a-25a0-4085-b8bd-6df23a35321f",
   "metadata": {},
   "source": [
    "### Replace Only For Specified Columns\n",
    "Replace NULL values in the \"Calories\" columns with the number 130:"
   ]
  },
  {
   "cell_type": "code",
   "execution_count": null,
   "id": "3cea9981-54f3-4280-ae16-0c527fa5cc7d",
   "metadata": {},
   "outputs": [],
   "source": [
    "#DO NOT RUN THIS\n",
    "import pandas as pd\n",
    "\n",
    "df = pd.read_csv('data.csv')\n",
    "\n",
    "df[\"Calories\"].fillna(130, inplace = True)"
   ]
  },
  {
   "cell_type": "markdown",
   "id": "6cf3256e-e95b-4704-8f05-6f74bcf9d869",
   "metadata": {},
   "source": [
    "# Replace Using Mean, Median, or Mode\n",
    "\n",
    "Pandas uses the **mean() median() and mode()** methods to calculate the respective values for a specified column:\n",
    "\n"
   ]
  },
  {
   "cell_type": "code",
   "execution_count": null,
   "id": "768bae94-e490-4302-afe3-f1c67b57143f",
   "metadata": {},
   "outputs": [],
   "source": [
    "# DO NOT RUN THIS\n",
    "#Calculate the MEAN, and replace any empty values with it:\n",
    "import pandas as pd\n",
    "\n",
    "df = pd.read_csv('data.csv')\n",
    "\n",
    "x = df[\"Calories\"].mean()  #you replace with median() or mode()\n",
    "\n",
    "df[\"Calories\"].fillna(x, inplace = True)\n",
    "\n"
   ]
  },
  {
   "cell_type": "markdown",
   "id": "16950e54-937a-4d24-9f66-747784de63fa",
   "metadata": {},
   "source": [
    "# 2. Data in wrong format"
   ]
  },
  {
   "cell_type": "markdown",
   "id": "872c854a-413e-4646-98f8-83dc653478b7",
   "metadata": {},
   "source": [
    "Let's try to convert all cells in the 'Date' column into dates.\n",
    "\n",
    "Pandas has a **to_datetime()** method for this:"
   ]
  },
  {
   "cell_type": "code",
   "execution_count": null,
   "id": "712b1bfc-1123-4bf6-9b99-a68e896b2bb2",
   "metadata": {},
   "outputs": [],
   "source": [
    "#DO NOT RUN THIS\n",
    "import pandas as pd\n",
    "\n",
    "df = pd.read_csv('data.csv')\n",
    "\n",
    "df['Date'] = pd.to_datetime(df['Date'])\n",
    "\n",
    "print(df.to_string())"
   ]
  },
  {
   "cell_type": "markdown",
   "id": "836a977f-9a15-4fa3-9d44-e670442d30b9",
   "metadata": {},
   "source": [
    "# 3. Wrong data"
   ]
  },
  {
   "cell_type": "markdown",
   "id": "509d47a9-30fe-40f7-b236-b3385ebe3810",
   "metadata": {},
   "source": [
    "One way to fix wrong values is to **replace** them with something else."
   ]
  },
  {
   "cell_type": "code",
   "execution_count": null,
   "id": "22eb6be1-2709-4340-a2cf-5bdbd4cf1556",
   "metadata": {},
   "outputs": [],
   "source": [
    "#DO NOT RUN THIS\n",
    "#Set \"Duration\" = 45 in row 7:\n",
    "\n",
    "df.loc[7, 'Duration'] = 45"
   ]
  },
  {
   "cell_type": "markdown",
   "id": "76d4c81e-cca0-4ad4-aec5-ab0f9189f258",
   "metadata": {},
   "source": [
    "If the value is higher than 120, set it to 120:"
   ]
  },
  {
   "cell_type": "code",
   "execution_count": null,
   "id": "7d4e44d3-23eb-40e5-87e1-077207d75dc8",
   "metadata": {},
   "outputs": [],
   "source": [
    "for x in df.index:\n",
    "  if df.loc[x, \"Duration\"] > 120:\n",
    "    df.loc[x, \"Duration\"] = 120"
   ]
  },
  {
   "cell_type": "markdown",
   "id": "7d3575b3-45e2-4ad4-95bf-50519b216822",
   "metadata": {},
   "source": [
    "Delete rows where \"Duration\" is higher than 120:"
   ]
  },
  {
   "cell_type": "code",
   "execution_count": null,
   "id": "4556ff00-d197-4255-aabb-f8b4d807c1cb",
   "metadata": {},
   "outputs": [],
   "source": [
    "for x in df.index:\n",
    "  if df.loc[x, \"Duration\"] > 120:\n",
    "    df.drop(x, inplace = True)"
   ]
  },
  {
   "cell_type": "markdown",
   "id": "0b7c2e18-b796-42d4-b154-04973bc625f3",
   "metadata": {},
   "source": [
    "# 4. Removing Duplicates"
   ]
  },
  {
   "cell_type": "markdown",
   "id": "8e2872b0-a29e-4329-a291-7caeb9365d59",
   "metadata": {},
   "source": [
    "To discover duplicates, we can use the **duplicated()** method.\n",
    "\n",
    "The **duplicated()** method returns a Boolean values for each row:"
   ]
  },
  {
   "cell_type": "code",
   "execution_count": null,
   "id": "5e0f3d5c-2624-4a8c-bc69-5dcfba67f6a5",
   "metadata": {},
   "outputs": [],
   "source": [
    "# Returns True for every row that is a duplicate, otherwise False:\n",
    "\n",
    "print(df.duplicated())"
   ]
  },
  {
   "cell_type": "markdown",
   "id": "c874cb38-a24b-4b55-84ef-e15f4deae103",
   "metadata": {},
   "source": [
    "To remove duplicates, use the **drop_duplicates()** method."
   ]
  },
  {
   "cell_type": "code",
   "execution_count": null,
   "id": "8800228f-4881-4fa4-90f5-b0fb6be2cb43",
   "metadata": {},
   "outputs": [],
   "source": [
    "df.drop_duplicates(inplace = True)"
   ]
  },
  {
   "cell_type": "markdown",
   "id": "409938a5-eb65-476b-9b1e-651f0d28ea8e",
   "metadata": {},
   "source": [
    "Remember: The **(inplace = True)** will make sure that the method does NOT return a new DataFrame, but it will remove all duplicates from the original DataFrame."
   ]
  },
  {
   "cell_type": "markdown",
   "id": "c0c96b29-cabb-4a8f-a615-b42db4b6e85a",
   "metadata": {},
   "source": [
    "# Pandas - Data Correlations"
   ]
  },
  {
   "cell_type": "markdown",
   "id": "70139e0f-4efb-4af7-ad01-ed2eb5728919",
   "metadata": {},
   "source": [
    "### Finding Relationships\n",
    "A great aspect of the Pandas module is the **corr()** method.\n",
    "\n",
    "The **corr()** method calculates the relationship between each column in your data set."
   ]
  },
  {
   "cell_type": "code",
   "execution_count": null,
   "id": "8f7b2216-43a4-4bf6-9ea4-37a6fc702cbd",
   "metadata": {},
   "outputs": [],
   "source": [
    "# Show the relationship between the columns:\n",
    "\n",
    "df.corr()"
   ]
  },
  {
   "cell_type": "markdown",
   "id": "37510673-77ec-4cbe-81cc-9caf26cf316f",
   "metadata": {},
   "source": [
    "# Pandas - Plotting"
   ]
  },
  {
   "cell_type": "markdown",
   "id": "b26d8f81-ad98-4840-b32d-37da35fc6f0f",
   "metadata": {},
   "source": [
    "Pandas uses the **plot()** method to create diagrams.\\\n",
    "We can use **Pyplot**, a submodule of the **Matplotlib library** to visualize the diagram on the screen.\n",
    "\n",
    "Pandas uses the **plot()** method to create diagrams."
   ]
  },
  {
   "cell_type": "code",
   "execution_count": null,
   "id": "5a2c812f-f6f7-4de7-9aef-8d5b570c2068",
   "metadata": {},
   "outputs": [],
   "source": [
    "#DO NOT RUN THIS\n",
    "import pandas as pd\n",
    "import matplotlib.pyplot as plt\n",
    "\n",
    "df = pd.read_csv('data.csv')\n",
    "\n",
    "df.plot()\n",
    "\n",
    "plt.show()"
   ]
  },
  {
   "cell_type": "markdown",
   "id": "d4ef6218-5a5a-4f96-a54f-132604cd8751",
   "metadata": {},
   "source": [
    "### Scatter Plot\n",
    "Specify that you want a scatter plot with the kind argument:\n",
    "\n",
    "**kind = 'scatter'**\n",
    "\n",
    "A scatter plot needs an **x-axis and a y-axis.**"
   ]
  },
  {
   "cell_type": "code",
   "execution_count": null,
   "id": "6348f9c7-6078-45e5-9d8b-08f68de7681b",
   "metadata": {},
   "outputs": [],
   "source": [
    "#DO NOT RUN THIS\n",
    "import pandas as pd\n",
    "import matplotlib.pyplot as plt\n",
    "\n",
    "df = pd.read_csv('data.csv')\n",
    "\n",
    "df.plot(kind = 'scatter', x = 'Duration', y = 'Calories')\n",
    "\n",
    "plt.show()"
   ]
  },
  {
   "cell_type": "markdown",
   "id": "bb48a5b4-185a-452e-befc-3b1d89e79620",
   "metadata": {},
   "source": [
    "### Histogram\n",
    "Use the kind argument to specify that you want a histogram:\n",
    "\n",
    "**kind = 'hist'**\n",
    "\n",
    "A histogram needs only **one column.**"
   ]
  },
  {
   "cell_type": "code",
   "execution_count": null,
   "id": "4cc645b7-a0d5-47b7-b6bf-69adac88d1d5",
   "metadata": {},
   "outputs": [],
   "source": [
    "df[\"Duration\"].plot(kind = 'hist')"
   ]
  }
 ],
 "metadata": {
  "kernelspec": {
   "display_name": "Python 3 (ipykernel)",
   "language": "python",
   "name": "python3"
  },
  "language_info": {
   "codemirror_mode": {
    "name": "ipython",
    "version": 3
   },
   "file_extension": ".py",
   "mimetype": "text/x-python",
   "name": "python",
   "nbconvert_exporter": "python",
   "pygments_lexer": "ipython3",
   "version": "3.13.0"
  }
 },
 "nbformat": 4,
 "nbformat_minor": 5
}
